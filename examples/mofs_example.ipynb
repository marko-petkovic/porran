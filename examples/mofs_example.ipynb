{
 "cells": [
  {
   "cell_type": "markdown",
   "metadata": {},
   "source": [
    "# Functionalizing Cu-BTC using PORRAN\n",
    "\n",
    "In this example we generate several Cu-BTC MOFs, functionalized with lithium alkoxide."
   ]
  },
  {
   "cell_type": "code",
   "execution_count": 4,
   "metadata": {},
   "outputs": [],
   "source": [
    "from porran import PORRAN\n",
    "\n",
    "from pymatgen.core import Molecule"
   ]
  },
  {
   "cell_type": "code",
   "execution_count": 2,
   "metadata": {},
   "outputs": [],
   "source": [
    "# Create a PORRAN object\n",
    "prn = PORRAN()\n",
    "\n",
    "# Read the input file. We will use the radius method to create graph. We\n",
    "# also need to supply a mask method, to only include H-atoms that are\n",
    "# connected to C-atoms.\n",
    "prn.init_structure('Cu-BTC.cif', graph_method='radius', mask_method='h_on_c', radius=10)"
   ]
  },
  {
   "cell_type": "markdown",
   "metadata": {},
   "source": [
    "Now we add functional groups, or dopants, to the MOF by setting passing\n",
    "`create_algo=\"dmof\"` (for 'doped MOF') to the `generate_structures()` method.\n",
    "This algorithm expects dopants to be provided as `pymatgen.core.Molecule`\n",
    "objects. You can either provide a single Molecule or a list of Molecules of\n",
    "length `n_subs`. The x-axis of the dopant's reference frame will be aligned with\n",
    "the C-H bond of the H being substituted and the origin will be placed at the\n",
    "location of the C-atom. If there is little room for the dopant in the MOF, the\n",
    "added atoms might overlap with existing ones. The algorithm will try to resolve\n",
    "this by randomly rotating the dopant around its x-axis at most `max_attempts`\n",
    "times, after which that dopant is skipped."
   ]
  },
  {
   "cell_type": "code",
   "execution_count": 6,
   "metadata": {},
   "outputs": [
    {
     "name": "stdout",
     "output_type": "stream",
     "text": [
      "Successfully generated 10 structures in 8.031 seconds\n",
      "Failed to generate 0 structures\n",
      "Failed to generate new structures 0 times\n"
     ]
    }
   ],
   "source": [
    "# Random structures\n",
    "random_strcts = prn.generate_structures(\n",
    "    n_structures=10,\n",
    "    n_subs=5,\n",
    "    replace_algo=\"random\",\n",
    "    create_algo=\"dmof\",\n",
    "    write=True,\n",
    "    writepath=\"mofs/random\",\n",
    "    dopants=Molecule.from_file(\"OLi.xyz\"),\n",
    "    max_attempts=100,\n",
    ")"
   ]
  }
 ],
 "metadata": {
  "kernelspec": {
   "display_name": "pr311",
   "language": "python",
   "name": "python3"
  },
  "language_info": {
   "codemirror_mode": {
    "name": "ipython",
    "version": 3
   },
   "file_extension": ".py",
   "mimetype": "text/x-python",
   "name": "python",
   "nbconvert_exporter": "python",
   "pygments_lexer": "ipython3",
   "version": "3.11.8"
  }
 },
 "nbformat": 4,
 "nbformat_minor": 2
}
