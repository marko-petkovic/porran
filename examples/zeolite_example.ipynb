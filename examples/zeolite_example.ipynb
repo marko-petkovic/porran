{
 "cells": [
  {
   "cell_type": "markdown",
   "metadata": {},
   "source": [
    "# Generating Mordenite (MOR) structures using PORRAN"
   ]
  },
  {
   "cell_type": "markdown",
   "metadata": {},
   "source": [
    "In this tutorial we will generate various MOR structures, where we substitute Si with Al using four different algorithms. The CIF for MOR was obtained from [IZA](https://europe.iza-structure.org/IZA-SC/cif/MOR.cif)."
   ]
  },
  {
   "cell_type": "code",
   "execution_count": 1,
   "metadata": {},
   "outputs": [],
   "source": [
    "from porran import PORRAN"
   ]
  },
  {
   "cell_type": "markdown",
   "metadata": {},
   "source": [
    "## Loading the zeolite in PORRAN"
   ]
  },
  {
   "cell_type": "code",
   "execution_count": 2,
   "metadata": {},
   "outputs": [],
   "source": [
    "# Create a PORRAN object\n",
    "prn = PORRAN()\n",
    "\n",
    "# Read the input file. We will use the zeolite method to create the structure graph\n",
    "# This will create a graph of the structure based on Si-O-Si bonds.\n",
    "prn.init_structure('MOR.cif', graph_method='zeolite', mask_method='zeolite')\n",
    "\n",
    "\n",
    "# It is also possible to load the zeolite by directly downloading the CIF from IZA\n",
    "# This is done using the from_IZA_code method\n",
    "prn.from_IZA_code('MOR', graph_method='zeolite', mask_method='zeolite')\t\n",
    "\n",
    "# If we wish to change the graph method, we can do so using change_graph_method\n",
    "# Since radius builds a graph based on the distance matrix, we need to manually tell it which atoms to use\n",
    "# In this cases we only want to substitute the Si atoms\n",
    "prn.change_graph_method('radius', radius=4, mask_method=['Si'])"
   ]
  },
  {
   "cell_type": "markdown",
   "metadata": {},
   "source": [
    "## Creating structures with Al substitutions"
   ]
  },
  {
   "cell_type": "markdown",
   "metadata": {},
   "source": [
    "Now, we will perform substitutions using six different algorithms, and write the generated structures to different folders. This is done using the ```generate_structures``` method. Here, we need specify how many structures we want to make (```n_structures```), which algorithm for substitutions we want to use (```replace_algo```), how many atoms we want to substitute (```n_subs```) as well as which algorithm we want to use to update the CIF (```create_algo```). For certain algorithms (such as multi-clusters and chains), additional parameters need to be specified. Tt is also possible to use user-designed algorithms, which can be passed as a ```Callable``` to the method. "
   ]
  },
  {
   "cell_type": "code",
   "execution_count": 3,
   "metadata": {},
   "outputs": [
    {
     "name": "stdout",
     "output_type": "stream",
     "text": [
      "Successfully generated 10 structures in 0.099 seconds\n",
      "Failed to generate 0 structures\n",
      "Failed to generate new structures 0 times\n"
     ]
    }
   ],
   "source": [
    "# Random structures\n",
    "random_strcts = prn.generate_structures(n_structures=10, n_subs=5, replace_algo='random', create_algo='zeolite', write=True, writepath='structures/random')"
   ]
  },
  {
   "cell_type": "code",
   "execution_count": 4,
   "metadata": {},
   "outputs": [
    {
     "name": "stdout",
     "output_type": "stream",
     "text": [
      "Successfully generated 10 structures in 0.109 seconds\n",
      "Failed to generate 0 structures\n",
      "Failed to generate new structures 0 times\n"
     ]
    }
   ],
   "source": [
    "# Random structures obeying the Löwenstein rule\n",
    "random_strcts = prn.generate_structures(n_structures=10, n_subs=5, replace_algo='random_lowenstein', create_algo='zeolite', write=True, writepath='structures/random_loewenstein')"
   ]
  },
  {
   "cell_type": "code",
   "execution_count": 5,
   "metadata": {},
   "outputs": [
    {
     "name": "stdout",
     "output_type": "stream",
     "text": [
      "Successfully generated 10 structures in 0.163 seconds\n",
      "Failed to generate 0 structures\n",
      "Failed to generate new structures 0 times\n"
     ]
    }
   ],
   "source": [
    "# Clusters\n",
    "random_strcts = prn.generate_structures(n_structures=10, n_subs=5, replace_algo='clusters', create_algo='zeolite', write=True, writepath='structures/clusters')"
   ]
  },
  {
   "cell_type": "code",
   "execution_count": 6,
   "metadata": {},
   "outputs": [
    {
     "name": "stdout",
     "output_type": "stream",
     "text": [
      "Successfully generated 10 structures in 0.111 seconds\n",
      "Failed to generate 0 structures\n",
      "Failed to generate new structures 0 times\n",
      "Successfully generated 10 structures in 0.098 seconds\n",
      "Failed to generate 0 structures\n",
      "Failed to generate new structures 0 times\n"
     ]
    }
   ],
   "source": [
    "# Multiple clusters\n",
    "# In this case, Al clusters are allowed to be directly next to each other (without Si in between)\n",
    "# This is done by setting the make_space parameter to False\n",
    "random_strcts = prn.generate_structures(n_structures=10, n_subs=5, cluster_sizes=[3,2], make_space=False, replace_algo='clusters', create_algo='zeolite', write=True, writepath='structures/multi_clusters_no_space')\n",
    "\n",
    "# Multiple clusters with space\n",
    "# In this case, Al clusters are separated by Si atoms\n",
    "# This is done by setting the make_space parameter to True\n",
    "random_strcts = prn.generate_structures(n_structures=10, n_subs=5, cluster_sizes=[3,2], make_space=True, replace_algo='clusters', create_algo='zeolite', write=True, writepath='structures/multi_clusters_space')"
   ]
  },
  {
   "cell_type": "code",
   "execution_count": 7,
   "metadata": {},
   "outputs": [
    {
     "name": "stdout",
     "output_type": "stream",
     "text": [
      "Successfully generated 10 structures in 0.126 seconds\n",
      "Failed to generate 0 structures\n",
      "Failed to generate new structures 0 times\n"
     ]
    }
   ],
   "source": [
    "# Chains\n",
    "# The chains algorithm might run into cases where it cannot find a suitable chain\n",
    "# In this case, it will retry generating a valid structure\n",
    "# For each structure, PORRAN will attempt to generate the structure 100 times by default\n",
    "random_strcts = prn.generate_structures(n_structures=10, n_subs=5, chain_lengths=[2,2,1], replace_algo='chains', create_algo='zeolite', write=True, writepath='structures/chains')"
   ]
  },
  {
   "cell_type": "code",
   "execution_count": 8,
   "metadata": {},
   "outputs": [
    {
     "name": "stdout",
     "output_type": "stream",
     "text": [
      "Successfully generated 10 structures in 0.293 seconds\n",
      "Failed to generate 0 structures\n",
      "Failed to generate new structures 0 times\n"
     ]
    }
   ],
   "source": [
    "# Maximize entropy\n",
    "random_strcts = prn.generate_structures(n_structures=10, n_subs=5, replace_algo='maximize_entropy', create_algo='zeolite', write=True, writepath='structures/maximize_entropy')"
   ]
  },
  {
   "cell_type": "markdown",
   "metadata": {},
   "source": [
    "## Defining custom algorithms"
   ]
  },
  {
   "cell_type": "markdown",
   "metadata": {},
   "source": [
    "In PORRAN, it is possible to use your own algorithms instead of the already provided algorithms. For example, you can define your own algorithm for modification site selection (```mask_method```), graph creation (```graph_method```), modification site selection (```replace_algo```) and creating the modified structure (```create_algo```). \n",
    "\n",
    "Below, we will provide an example of modifying and debugging modification site selection algorithms. To illustrate this, we will develop an algorithm which selects every 10th Si atom of MOR to be replaced by an Al. When creating a custom replacement algorithm, the first argument should be the structure graph, while the second argument should be the amount of substitutions, optionally followed by other arguments. The function should return an np.array containing the indices of selected nodes.\n",
    "\n",
    "First, we will define the new replacement algorithm.\n"
   ]
  },
  {
   "cell_type": "code",
   "execution_count": 9,
   "metadata": {},
   "outputs": [],
   "source": [
    "import networkx as nx\n",
    "import numpy as np\n",
    "\n",
    "def replace_tenth_atom(G: nx.Graph, n_subs: int, *args, **kwargs):\n",
    "\n",
    "    if n_subs*10 >= len(G.nodes):\n",
    "        raise ValueError('Number of substitutions is too large for the structure')\n",
    "\n",
    "    al_subs = []\n",
    "    for i in range(n_subs): \n",
    "        al_subs.append(i*10+9)\n",
    "    \n",
    "    return np.array(al_subs)"
   ]
  },
  {
   "cell_type": "markdown",
   "metadata": {},
   "source": [
    "Now, we will use the algorithm in the ```generate_structures``` method. Rather than using the string name of the function, we need to provide the actual function in the argument ```replace_algo```."
   ]
  },
  {
   "cell_type": "code",
   "execution_count": 10,
   "metadata": {},
   "outputs": [
    {
     "name": "stdout",
     "output_type": "stream",
     "text": [
      "Successfully generated 10 structures in 0.097 seconds\n",
      "Failed to generate 0 structures\n",
      "Failed to generate new structures 0 times\n"
     ]
    }
   ],
   "source": [
    "every10_3 = prn.generate_structures(n_structures=10, n_subs=3, replace_algo=replace_tenth_atom, create_algo='zeolite', write=True, writepath='structures/everytenth_3')"
   ]
  },
  {
   "cell_type": "markdown",
   "metadata": {},
   "source": [
    "Now, lets try to make a structure with 5 substitutions. Since MOR only has 48 atoms, this will fail. In order to see what causes the error, we can set the argument ```print_error``` to True."
   ]
  },
  {
   "cell_type": "code",
   "execution_count": 11,
   "metadata": {},
   "outputs": [
    {
     "name": "stdout",
     "output_type": "stream",
     "text": [
      "Failed to generate new structure: Number of substitutions is too large for the structure\n",
      "Failed to generate new structure: Number of substitutions is too large for the structure\n",
      "Failed to generate new structure: Number of substitutions is too large for the structure\n",
      "Failed to generate new structure: Number of substitutions is too large for the structure\n",
      "Failed to generate new structure: Number of substitutions is too large for the structure\n",
      "Failed to generate new structure: Number of substitutions is too large for the structure\n",
      "Failed to generate new structure: Number of substitutions is too large for the structure\n",
      "Failed to generate new structure: Number of substitutions is too large for the structure\n",
      "Failed to generate new structure: Number of substitutions is too large for the structure\n",
      "Failed to generate new structure: Number of substitutions is too large for the structure\n",
      "Successfully generated 0 structures in 0.001 seconds\n",
      "Failed to generate 10 structures\n",
      "Failed to generate new structures 10 times\n"
     ]
    }
   ],
   "source": [
    "every10_5 = prn.generate_structures(n_structures=10, n_subs=5, replace_algo=replace_tenth_atom, create_algo='zeolite', write=True, writepath='structures/everytenth_5', print_error=True, max_tries=1)"
   ]
  }
 ],
 "metadata": {
  "kernelspec": {
   "display_name": "torch2",
   "language": "python",
   "name": "python3"
  },
  "language_info": {
   "codemirror_mode": {
    "name": "ipython",
    "version": 3
   },
   "file_extension": ".py",
   "mimetype": "text/x-python",
   "name": "python",
   "nbconvert_exporter": "python",
   "pygments_lexer": "ipython3",
   "version": "3.10.12"
  }
 },
 "nbformat": 4,
 "nbformat_minor": 2
}
