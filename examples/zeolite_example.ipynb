{
 "cells": [
  {
   "cell_type": "markdown",
   "metadata": {},
   "source": [
    "# Generating Mordenite (MOR) structures using PORRAN"
   ]
  },
  {
   "cell_type": "markdown",
   "metadata": {},
   "source": [
    "In this tutorial we will generate various MOR structures, where we substitute Si with Al using four different algorithms. The CIF for MOR was obtained from [IZA](https://europe.iza-structure.org/IZA-SC/cif/MOR.cif)."
   ]
  },
  {
   "cell_type": "code",
   "execution_count": 1,
   "metadata": {},
   "outputs": [],
   "source": [
    "from porran import PORRAN"
   ]
  },
  {
   "cell_type": "code",
   "execution_count": 2,
   "metadata": {},
   "outputs": [],
   "source": [
    "# Create a PORRAN object\n",
    "prn = PORRAN()\n",
    "\n",
    "# Read the input file. We will use the zeolite method to create the structure graph\n",
    "# This will create a graph of the structure based on Si-O-Si bonds.\n",
    "prn.init_structure('MOR.cif', graph_method='zeolite')\n",
    "\n",
    "\n",
    "# It is also possible to load the zeolite by directly downloading the CIF from IZA\n",
    "# This is done using the from_IZA_code method\n",
    "prn.from_IZA_code('MOR', graph_method='zeolite')\n",
    "\n",
    "# If we wish to change the graph method, we can do so using change_graph_method\n",
    "# Since radius builds a graph based on the distance matrix, we need to manually tell it which atoms to use\n",
    "# In this cases we only want to substitute the Si atoms\n",
    "prn.change_graph_method('radius', radius=4, mask_method=['Si'])"
   ]
  },
  {
   "cell_type": "markdown",
   "metadata": {},
   "source": [
    "Now, we will perform substitutions using four different algorithms, and write the generated structures to different folders. This is done using the ```generate_structures``` method. Here, we need specify how many structures we want to make (```n_structures```), which algorithm for substitutions we want to use (```replace_algo```), how many atoms we want to substitute (```n_subs```) as well as which algorithm we want to use to update the CIF (```create_algo```). For the algorithms, it is also possible to use user-designed algorithms, which can be passed as a ```Callable``` to the method. "
   ]
  },
  {
   "cell_type": "code",
   "execution_count": 3,
   "metadata": {},
   "outputs": [
    {
     "name": "stdout",
     "output_type": "stream",
     "text": [
      "Successfully generated 10 structures in 0.091 seconds\n",
      "Failed to generate 0 structures\n",
      "Failed to generate new structures 0 times\n"
     ]
    }
   ],
   "source": [
    "# Random structures\n",
    "random_strcts = prn.generate_structures(n_structures=10, n_subs=5, replace_algo='random', create_algo='zeolite', write=True, writepath='structures/random')"
   ]
  },
  {
   "cell_type": "code",
   "execution_count": 4,
   "metadata": {},
   "outputs": [
    {
     "name": "stdout",
     "output_type": "stream",
     "text": [
      "Successfully generated 10 structures in 0.101 seconds\n",
      "Failed to generate 0 structures\n",
      "Failed to generate new structures 0 times\n"
     ]
    }
   ],
   "source": [
    "# Clusters\n",
    "random_strcts = prn.generate_structures(n_structures=10, n_subs=5, replace_algo='clusters', create_algo='zeolite', write=True, writepath='structures/clusters')"
   ]
  },
  {
   "cell_type": "code",
   "execution_count": 5,
   "metadata": {},
   "outputs": [
    {
     "name": "stdout",
     "output_type": "stream",
     "text": [
      "Successfully generated 10 structures in 0.101 seconds\n",
      "Failed to generate 0 structures\n",
      "Failed to generate new structures 0 times\n"
     ]
    }
   ],
   "source": [
    "# Chains\n",
    "# The chains algorithm might run into cases where it cannot find a suitable chain\n",
    "# In this case, it will retry generating a valid structure\n",
    "# For each structure, PORRAN will attempt to generate the structure 100 times by default\n",
    "random_strcts = prn.generate_structures(n_structures=10, n_subs=5, chain_lengths=[2,2,1], replace_algo='chains', create_algo='zeolite', write=True, writepath='structures/chains')"
   ]
  },
  {
   "cell_type": "code",
   "execution_count": 6,
   "metadata": {},
   "outputs": [
    {
     "name": "stdout",
     "output_type": "stream",
     "text": [
      "Successfully generated 10 structures in 0.296 seconds\n",
      "Failed to generate 0 structures\n",
      "Failed to generate new structures 0 times\n"
     ]
    }
   ],
   "source": [
    "# Maximize entropy\n",
    "random_strcts = prn.generate_structures(n_structures=10, n_subs=5, replace_algo='maximize_entropy', create_algo='zeolite', write=True, writepath='structures/maximize_entropy')"
   ]
  },
  {
   "cell_type": "code",
   "execution_count": null,
   "metadata": {},
   "outputs": [],
   "source": []
  },
  {
   "cell_type": "code",
   "execution_count": null,
   "metadata": {},
   "outputs": [],
   "source": []
  }
 ],
 "metadata": {
  "kernelspec": {
   "display_name": "torch2",
   "language": "python",
   "name": "python3"
  },
  "language_info": {
   "codemirror_mode": {
    "name": "ipython",
    "version": 3
   },
   "file_extension": ".py",
   "mimetype": "text/x-python",
   "name": "python",
   "nbconvert_exporter": "python",
   "pygments_lexer": "ipython3",
   "version": "3.10.12"
  }
 },
 "nbformat": 4,
 "nbformat_minor": 2
}
